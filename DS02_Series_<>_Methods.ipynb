{
  "nbformat": 4,
  "nbformat_minor": 0,
  "metadata": {
    "colab": {
      "provenance": [],
      "mount_file_id": "14JihKEAmLCDqwX5-RS1-rL3xJskv2l1s",
      "authorship_tag": "ABX9TyP5djrGS2X0xf8/PeErGxKs",
      "include_colab_link": true
    },
    "kernelspec": {
      "name": "python3",
      "display_name": "Python 3"
    },
    "language_info": {
      "name": "python"
    }
  },
  "cells": [
    {
      "cell_type": "markdown",
      "metadata": {
        "id": "view-in-github",
        "colab_type": "text"
      },
      "source": [
        "<a href=\"https://colab.research.google.com/github/DariuszPszenny/data-science-bootcmap/blob/main/DS02_Series_%3C%3E_Methods.ipynb\" target=\"_parent\"><img src=\"https://colab.research.google.com/assets/colab-badge.svg\" alt=\"Open In Colab\"/></a>"
      ]
    },
    {
      "cell_type": "code",
      "execution_count": 2,
      "metadata": {
        "id": "1-iVDeEpjEAp"
      },
      "outputs": [],
      "source": [
        "import pandas as pd\n",
        "import numpy as np\n",
        "import math as math"
      ]
    },
    {
      "cell_type": "code",
      "source": [
        "cities = ['Shanghai','Beijing','Istanbul']\n",
        "population = [24183300, 20794100,15030000]"
      ],
      "metadata": {
        "id": "22m3Y7ksjT5-"
      },
      "execution_count": null,
      "outputs": []
    },
    {
      "cell_type": "code",
      "source": [
        "citypop = pd.Series(population,cities)\n",
        "citypop"
      ],
      "metadata": {
        "colab": {
          "base_uri": "https://localhost:8080/"
        },
        "id": "e1uD4jssjXA1",
        "outputId": "15b1fb30-91f7-442e-c6e0-d5e62a913107"
      },
      "execution_count": null,
      "outputs": [
        {
          "output_type": "execute_result",
          "data": {
            "text/plain": [
              "Shanghai    24183300\n",
              "Beijing     20794100\n",
              "Istanbul    15030000\n",
              "dtype: int64"
            ]
          },
          "metadata": {},
          "execution_count": 3
        }
      ]
    },
    {
      "cell_type": "code",
      "source": [
        "citypop = pd.Series(data = population, index=cities)\n",
        "citypop"
      ],
      "metadata": {
        "colab": {
          "base_uri": "https://localhost:8080/"
        },
        "id": "LWRY_UngjY9-",
        "outputId": "7ce7f8d1-06c7-44a7-b640-cdde7c766806"
      },
      "execution_count": null,
      "outputs": [
        {
          "output_type": "execute_result",
          "data": {
            "text/plain": [
              "Shanghai    24183300\n",
              "Beijing     20794100\n",
              "Istanbul    15030000\n",
              "dtype: int64"
            ]
          },
          "metadata": {},
          "execution_count": 4
        }
      ]
    },
    {
      "cell_type": "code",
      "source": [
        "citypop.sum()"
      ],
      "metadata": {
        "colab": {
          "base_uri": "https://localhost:8080/"
        },
        "id": "ZwBvseNejcIl",
        "outputId": "0c74f1e2-9e0a-43f8-a14c-b010358b8c6b"
      },
      "execution_count": null,
      "outputs": [
        {
          "output_type": "execute_result",
          "data": {
            "text/plain": [
              "60007400"
            ]
          },
          "metadata": {},
          "execution_count": 5
        }
      ]
    },
    {
      "cell_type": "code",
      "source": [
        "citypop.mean()"
      ],
      "metadata": {
        "colab": {
          "base_uri": "https://localhost:8080/"
        },
        "id": "aNgkKaC7jiEp",
        "outputId": "9775a572-d4ac-4ac3-a874-1ce21b0ed377"
      },
      "execution_count": null,
      "outputs": [
        {
          "output_type": "execute_result",
          "data": {
            "text/plain": [
              "20002466.666666668"
            ]
          },
          "metadata": {},
          "execution_count": 6
        }
      ]
    },
    {
      "cell_type": "code",
      "source": [
        "citypop.tolist()"
      ],
      "metadata": {
        "colab": {
          "base_uri": "https://localhost:8080/"
        },
        "id": "u1vLAShQjjkt",
        "outputId": "021ce290-84e5-41b5-f4fb-9949d2c8da49"
      },
      "execution_count": null,
      "outputs": [
        {
          "output_type": "execute_result",
          "data": {
            "text/plain": [
              "[24183300, 20794100, 15030000]"
            ]
          },
          "metadata": {},
          "execution_count": 7
        }
      ]
    },
    {
      "cell_type": "code",
      "source": [
        "citypop.index"
      ],
      "metadata": {
        "colab": {
          "base_uri": "https://localhost:8080/"
        },
        "id": "PKSMdpjljlq-",
        "outputId": "aad0748f-acec-4ce8-c3e6-02157bb2168c"
      },
      "execution_count": null,
      "outputs": [
        {
          "output_type": "execute_result",
          "data": {
            "text/plain": [
              "Index(['Shanghai', 'Beijing', 'Istanbul'], dtype='object')"
            ]
          },
          "metadata": {},
          "execution_count": 8
        }
      ]
    },
    {
      "cell_type": "code",
      "source": [
        "citypop.keys()"
      ],
      "metadata": {
        "colab": {
          "base_uri": "https://localhost:8080/"
        },
        "id": "zT__aeFwjn1N",
        "outputId": "9e813b80-ab3f-4cbc-b240-390ede9c0f04"
      },
      "execution_count": null,
      "outputs": [
        {
          "output_type": "execute_result",
          "data": {
            "text/plain": [
              "Index(['Shanghai', 'Beijing', 'Istanbul'], dtype='object')"
            ]
          },
          "metadata": {},
          "execution_count": 9
        }
      ]
    },
    {
      "cell_type": "code",
      "source": [
        "citypop.values"
      ],
      "metadata": {
        "colab": {
          "base_uri": "https://localhost:8080/"
        },
        "id": "DjeRsMUujqNl",
        "outputId": "9fb8d17f-e1bd-4e68-8d77-93b851cd96bc"
      },
      "execution_count": null,
      "outputs": [
        {
          "output_type": "execute_result",
          "data": {
            "text/plain": [
              "array([24183300, 20794100, 15030000])"
            ]
          },
          "metadata": {},
          "execution_count": 10
        }
      ]
    },
    {
      "cell_type": "code",
      "source": [
        "salary = pd.read_csv(\"/content/drive/MyDrive/Collab files/StackOverflowDeveloperSurvey.csv\",usecols=[\"Salary\"],squeeze=True).dropna()\n",
        "salary.head()"
      ],
      "metadata": {
        "id": "1Upta92wjrl1",
        "colab": {
          "base_uri": "https://localhost:8080/"
        },
        "outputId": "41d363a5-6a7e-43b3-f4eb-d26ed52035ac"
      },
      "execution_count": 4,
      "outputs": [
        {
          "output_type": "stream",
          "name": "stderr",
          "text": [
            "<ipython-input-4-2b2b7100618a>:1: FutureWarning: The squeeze argument has been deprecated and will be removed in a future version. Append .squeeze(\"columns\") to the call to squeeze.\n",
            "\n",
            "\n",
            "  salary = pd.read_csv(\"/content/drive/MyDrive/Collab files/StackOverflowDeveloperSurvey.csv\",usecols=[\"Salary\"],squeeze=True).dropna()\n"
          ]
        },
        {
          "output_type": "execute_result",
          "data": {
            "text/plain": [
              "2     113750.0\n",
              "14    100000.0\n",
              "17    130000.0\n",
              "18     82500.0\n",
              "22    100764.0\n",
              "Name: Salary, dtype: float64"
            ]
          },
          "metadata": {},
          "execution_count": 4
        }
      ]
    },
    {
      "cell_type": "code",
      "source": [
        "len(salary)"
      ],
      "metadata": {
        "colab": {
          "base_uri": "https://localhost:8080/"
        },
        "id": "buNpGT9ovkDe",
        "outputId": "1e0dd5d3-8c91-4b35-aa0d-e5d0f2e45f31"
      },
      "execution_count": 5,
      "outputs": [
        {
          "output_type": "execute_result",
          "data": {
            "text/plain": [
              "12891"
            ]
          },
          "metadata": {},
          "execution_count": 5
        }
      ]
    },
    {
      "cell_type": "code",
      "source": [
        "min(salary)"
      ],
      "metadata": {
        "colab": {
          "base_uri": "https://localhost:8080/"
        },
        "id": "K-XapwNlvwbL",
        "outputId": "e59486a8-abf6-4846-d9ef-32d9bfeb3483"
      },
      "execution_count": 6,
      "outputs": [
        {
          "output_type": "execute_result",
          "data": {
            "text/plain": [
              "0.0"
            ]
          },
          "metadata": {},
          "execution_count": 6
        }
      ]
    },
    {
      "cell_type": "code",
      "source": [
        "max(salary)"
      ],
      "metadata": {
        "colab": {
          "base_uri": "https://localhost:8080/"
        },
        "id": "fl83QFIzvxzj",
        "outputId": "6fb6c861-5f19-42de-d702-be0e6dc0dc81"
      },
      "execution_count": 7,
      "outputs": [
        {
          "output_type": "execute_result",
          "data": {
            "text/plain": [
              "197000.0"
            ]
          },
          "metadata": {},
          "execution_count": 7
        }
      ]
    },
    {
      "cell_type": "code",
      "source": [
        "list(salary.head())"
      ],
      "metadata": {
        "colab": {
          "base_uri": "https://localhost:8080/"
        },
        "id": "LyB8APTRvz17",
        "outputId": "1dd69074-6485-44e0-a003-5890594beebf"
      },
      "execution_count": 8,
      "outputs": [
        {
          "output_type": "execute_result",
          "data": {
            "text/plain": [
              "[113750.0, 100000.0, 130000.0, 82500.0, 100764.0]"
            ]
          },
          "metadata": {},
          "execution_count": 8
        }
      ]
    },
    {
      "cell_type": "code",
      "source": [
        "dict(salary.head())"
      ],
      "metadata": {
        "colab": {
          "base_uri": "https://localhost:8080/"
        },
        "id": "w9-QFAS6v1cz",
        "outputId": "c5bca0c6-f4c5-4861-90cb-40cc4b94ee58"
      },
      "execution_count": 9,
      "outputs": [
        {
          "output_type": "execute_result",
          "data": {
            "text/plain": [
              "{2: 113750.0, 14: 100000.0, 17: 130000.0, 18: 82500.0, 22: 100764.0}"
            ]
          },
          "metadata": {},
          "execution_count": 9
        }
      ]
    },
    {
      "cell_type": "code",
      "source": [
        "listSalarySorted = sorted(salary,reverse=True)\n",
        "listSalarySorted[:5]"
      ],
      "metadata": {
        "colab": {
          "base_uri": "https://localhost:8080/"
        },
        "id": "hJT57ZHmv3CD",
        "outputId": "eb5286fa-e8df-49c8-869b-6c3ad9d13811"
      },
      "execution_count": 11,
      "outputs": [
        {
          "output_type": "execute_result",
          "data": {
            "text/plain": [
              "[197000.0, 195000.0, 195000.0, 195000.0, 195000.0]"
            ]
          },
          "metadata": {},
          "execution_count": 11
        }
      ]
    },
    {
      "cell_type": "code",
      "source": [
        "salary.name = 'Salary of a person'\n",
        "salary.head()"
      ],
      "metadata": {
        "colab": {
          "base_uri": "https://localhost:8080/"
        },
        "id": "qN2GurJMv5z7",
        "outputId": "5ca6c0bc-51ed-47dc-9ece-1ee34373a1ec"
      },
      "execution_count": 13,
      "outputs": [
        {
          "output_type": "execute_result",
          "data": {
            "text/plain": [
              "2     113750.0\n",
              "14    100000.0\n",
              "17    130000.0\n",
              "18     82500.0\n",
              "22    100764.0\n",
              "Name: Salary of a person, dtype: float64"
            ]
          },
          "metadata": {},
          "execution_count": 13
        }
      ]
    },
    {
      "cell_type": "code",
      "source": [],
      "metadata": {
        "id": "v4JmlQrVv-6r"
      },
      "execution_count": null,
      "outputs": []
    }
  ]
}